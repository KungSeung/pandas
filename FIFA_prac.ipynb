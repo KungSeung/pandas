{
 "cells": [
  {
   "cell_type": "code",
   "execution_count": 27,
   "metadata": {},
   "outputs": [
    {
     "name": "stderr",
     "output_type": "stream",
     "text": [
      "/var/folders/d4/sthv_klj36vblf3ghqbtf9br0000gn/T/ipykernel_44329/1278826064.py:9: DtypeWarning: Columns (25,108) have mixed types. Specify dtype option on import or set low_memory=False.\n",
      "  FIFA_22 = pd.read_csv(PATH + 'players_22.csv', encoding='utf-8')\n"
     ]
    },
    {
     "data": {
      "text/html": [
       "<div>\n",
       "<style scoped>\n",
       "    .dataframe tbody tr th:only-of-type {\n",
       "        vertical-align: middle;\n",
       "    }\n",
       "\n",
       "    .dataframe tbody tr th {\n",
       "        vertical-align: top;\n",
       "    }\n",
       "\n",
       "    .dataframe thead th {\n",
       "        text-align: right;\n",
       "    }\n",
       "</style>\n",
       "<table border=\"1\" class=\"dataframe\">\n",
       "  <thead>\n",
       "    <tr style=\"text-align: right;\">\n",
       "      <th></th>\n",
       "      <th>short_name</th>\n",
       "    </tr>\n",
       "    <tr>\n",
       "      <th>preferred_foot</th>\n",
       "      <th></th>\n",
       "    </tr>\n",
       "  </thead>\n",
       "  <tbody>\n",
       "    <tr>\n",
       "      <th>Left</th>\n",
       "      <td>4565</td>\n",
       "    </tr>\n",
       "    <tr>\n",
       "      <th>Right</th>\n",
       "      <td>14674</td>\n",
       "    </tr>\n",
       "  </tbody>\n",
       "</table>\n",
       "</div>"
      ],
      "text/plain": [
       "                short_name\n",
       "preferred_foot            \n",
       "Left                  4565\n",
       "Right                14674"
      ]
     },
     "execution_count": 27,
     "metadata": {},
     "output_type": "execute_result"
    }
   ],
   "source": [
    "import pandas as pd\n",
    "import numpy as np\n",
    "import seaborn as sns\n",
    "import matplotlib.pyplot as plt\n",
    "# from google.colab import drive\n",
    "\n",
    "# FIFA 22 선수분석\n",
    "# 값어치(value_eur)가 제일 높은 선수 20명 \n",
    "PATH = \"archive/\"\n",
    "FIFA_22 = pd.read_csv(PATH + 'players_22.csv', encoding='utf-8')\n",
    "FIFA_22_value = FIFA_22.sort_values(by='value_eur', ascending=False).copy()\n",
    "FIFA_22_value.head(20)\n",
    "\n",
    "FIFA_22.shape\n",
    "# 필요한 데이터만 추출\n",
    "data = FIFA_22[['short_name','age','height_cm','weight_kg','nationality_name','club_name','overall','potential',\n",
    "        'value_eur','wage_eur','player_positions','preferred_foot','international_reputation',\n",
    "        'skill_moves', 'work_rate']]\n",
    "data.isnull().sum() # 결측치 확인\n",
    "data.dropna()   # 결측치 제거\n",
    "\n",
    "# 오버롤 : 포지션 능력치의 평균치 / min, max\n",
    "min(data.overall), max(data.overall)\n",
    "\n",
    "# 국가별 선수 숫자\n",
    "data['nationality_name'].value_counts()\n",
    "\n",
    "# 모든 선수들의 주발\n",
    "data.groupby(['preferred_foot']).count()[['short_name']]\n"
   ]
  },
  {
   "cell_type": "code",
   "execution_count": null,
   "metadata": {},
   "outputs": [],
   "source": []
  },
  {
   "cell_type": "code",
   "execution_count": null,
   "metadata": {},
   "outputs": [],
   "source": []
  }
 ],
 "metadata": {
  "kernelspec": {
   "display_name": "base",
   "language": "python",
   "name": "python3"
  },
  "language_info": {
   "codemirror_mode": {
    "name": "ipython",
    "version": 3
   },
   "file_extension": ".py",
   "mimetype": "text/x-python",
   "name": "python",
   "nbconvert_exporter": "python",
   "pygments_lexer": "ipython3",
   "version": "3.12.4"
  }
 },
 "nbformat": 4,
 "nbformat_minor": 2
}
