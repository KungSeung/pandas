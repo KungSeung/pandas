{
 "cells": [
  {
   "cell_type": "code",
   "execution_count": 109,
   "metadata": {},
   "outputs": [
    {
     "data": {
      "text/html": [
       "        <script type=\"text/javascript\">\n",
       "        window.PlotlyConfig = {MathJaxConfig: 'local'};\n",
       "        if (window.MathJax && window.MathJax.Hub && window.MathJax.Hub.Config) {window.MathJax.Hub.Config({SVG: {font: \"STIX-Web\"}});}\n",
       "        if (typeof require !== 'undefined') {\n",
       "        require.undef(\"plotly\");\n",
       "        requirejs.config({\n",
       "            paths: {\n",
       "                'plotly': ['https://cdn.plot.ly/plotly-2.32.0.min']\n",
       "            }\n",
       "        });\n",
       "        require(['plotly'], function(Plotly) {\n",
       "            window._Plotly = Plotly;\n",
       "        });\n",
       "        }\n",
       "        </script>\n",
       "        "
      ]
     },
     "metadata": {},
     "output_type": "display_data"
    },
    {
     "name": "stderr",
     "output_type": "stream",
     "text": [
      "/var/folders/d4/sthv_klj36vblf3ghqbtf9br0000gn/T/ipykernel_44329/3744375607.py:16: DtypeWarning:\n",
      "\n",
      "Columns (25,108) have mixed types. Specify dtype option on import or set low_memory=False.\n",
      "\n"
     ]
    },
    {
     "data": {
      "application/vnd.plotly.v1+json": {
       "config": {
        "plotlyServerURL": "https://plot.ly"
       },
       "data": [
        {
         "colorscale": [
          [
           0,
           "rgb(103,0,31)"
          ],
          [
           0.1,
           "rgb(178,24,43)"
          ],
          [
           0.2,
           "rgb(214,96,77)"
          ],
          [
           0.3,
           "rgb(244,165,130)"
          ],
          [
           0.4,
           "rgb(253,219,199)"
          ],
          [
           0.5,
           "rgb(247,247,247)"
          ],
          [
           0.6,
           "rgb(209,229,240)"
          ],
          [
           0.7,
           "rgb(146,197,222)"
          ],
          [
           0.8,
           "rgb(67,147,195)"
          ],
          [
           0.9,
           "rgb(33,102,172)"
          ],
          [
           1,
           "rgb(5,48,97)"
          ]
         ],
         "hoverinfo": "text",
         "text": [
          [
           1,
           0.6321810289948142,
           0.6769767864155657,
           0.4714578353390319,
           0.3585033460582617,
           0.20799681030443806,
           0.2309819798054687,
           0.04289428093629426,
           0.08825841738858846
          ],
          [
           0.6321810289948142,
           1,
           0.8235272246753316,
           0.5546840457911436,
           0.5277381144709143,
           0.25723243283373126,
           0.04288632140674651,
           0.010290696178575575,
           0.03518774860260205
          ],
          [
           0.6769767864155657,
           0.8235272246753316,
           1,
           0.6018855422270687,
           0.497685997991416,
           0.27252005675566915,
           0.1598743758034194,
           0.028000838302582886,
           0.06622130800179939
          ],
          [
           0.4714578353390319,
           0.5546840457911436,
           0.6018855422270687,
           1,
           0.6442151048274695,
           0.3769527703500324,
           0.46147008113175914,
           0.04217516188690078,
           0.1497674484518039
          ],
          [
           0.3585033460582617,
           0.5277381144709143,
           0.497685997991416,
           0.6442151048274695,
           1,
           0.28470870180217817,
           -0.2635554957406064,
           0.004093538326593096,
           -0.01708843066310921
          ],
          [
           0.20799681030443806,
           0.25723243283373126,
           0.27252005675566915,
           0.3769527703500324,
           0.28470870180217817,
           1,
           0.07310255695681063,
           -0.4106883449704623,
           -0.33612524969916796
          ],
          [
           0.2309819798054687,
           0.04288632140674651,
           0.1598743758034194,
           0.46147008113175914,
           -0.2635554957406064,
           0.07310255695681063,
           1,
           0.08313524455750337,
           0.23953441886763874
          ],
          [
           0.04289428093629426,
           0.010290696178575575,
           0.028000838302582886,
           0.04217516188690078,
           0.004093538326593096,
           -0.4106883449704623,
           0.08313524455750337,
           1,
           0.7653184987600138
          ],
          [
           0.08825841738858846,
           0.03518774860260205,
           0.06622130800179939,
           0.1497674484518039,
           -0.01708843066310921,
           -0.33612524969916796,
           0.23953441886763874,
           0.7653184987600138,
           1
          ]
         ],
         "type": "heatmap",
         "x": [
          "international_reputation",
          "value_eur",
          "wage_eur",
          "overall",
          "potential",
          "skill_moves",
          "age",
          "height_cm",
          "weight_kg"
         ],
         "y": [
          "international_reputation",
          "value_eur",
          "wage_eur",
          "overall",
          "potential",
          "skill_moves",
          "age",
          "height_cm",
          "weight_kg"
         ],
         "z": [
          [
           1,
           0.6321810289948142,
           0.6769767864155657,
           0.4714578353390319,
           0.3585033460582617,
           0.20799681030443806,
           0.2309819798054687,
           0.04289428093629426,
           0.08825841738858846
          ],
          [
           0.6321810289948142,
           1,
           0.8235272246753316,
           0.5546840457911436,
           0.5277381144709143,
           0.25723243283373126,
           0.04288632140674651,
           0.010290696178575575,
           0.03518774860260205
          ],
          [
           0.6769767864155657,
           0.8235272246753316,
           1,
           0.6018855422270687,
           0.497685997991416,
           0.27252005675566915,
           0.1598743758034194,
           0.028000838302582886,
           0.06622130800179939
          ],
          [
           0.4714578353390319,
           0.5546840457911436,
           0.6018855422270687,
           1,
           0.6442151048274695,
           0.3769527703500324,
           0.46147008113175914,
           0.04217516188690078,
           0.1497674484518039
          ],
          [
           0.3585033460582617,
           0.5277381144709143,
           0.497685997991416,
           0.6442151048274695,
           1,
           0.28470870180217817,
           -0.2635554957406064,
           0.004093538326593096,
           -0.01708843066310921
          ],
          [
           0.20799681030443806,
           0.25723243283373126,
           0.27252005675566915,
           0.3769527703500324,
           0.28470870180217817,
           1,
           0.07310255695681063,
           -0.4106883449704623,
           -0.33612524969916796
          ],
          [
           0.2309819798054687,
           0.04288632140674651,
           0.1598743758034194,
           0.46147008113175914,
           -0.2635554957406064,
           0.07310255695681063,
           1,
           0.08313524455750337,
           0.23953441886763874
          ],
          [
           0.04289428093629426,
           0.010290696178575575,
           0.028000838302582886,
           0.04217516188690078,
           0.004093538326593096,
           -0.4106883449704623,
           0.08313524455750337,
           1,
           0.7653184987600138
          ],
          [
           0.08825841738858846,
           0.03518774860260205,
           0.06622130800179939,
           0.1497674484518039,
           -0.01708843066310921,
           -0.33612524969916796,
           0.23953441886763874,
           0.7653184987600138,
           1
          ]
         ],
         "zmax": 1,
         "zmin": -1
        }
       ],
       "layout": {
        "template": {
         "data": {
          "bar": [
           {
            "error_x": {
             "color": "#2a3f5f"
            },
            "error_y": {
             "color": "#2a3f5f"
            },
            "marker": {
             "line": {
              "color": "#E5ECF6",
              "width": 0.5
             },
             "pattern": {
              "fillmode": "overlay",
              "size": 10,
              "solidity": 0.2
             }
            },
            "type": "bar"
           }
          ],
          "barpolar": [
           {
            "marker": {
             "line": {
              "color": "#E5ECF6",
              "width": 0.5
             },
             "pattern": {
              "fillmode": "overlay",
              "size": 10,
              "solidity": 0.2
             }
            },
            "type": "barpolar"
           }
          ],
          "carpet": [
           {
            "aaxis": {
             "endlinecolor": "#2a3f5f",
             "gridcolor": "white",
             "linecolor": "white",
             "minorgridcolor": "white",
             "startlinecolor": "#2a3f5f"
            },
            "baxis": {
             "endlinecolor": "#2a3f5f",
             "gridcolor": "white",
             "linecolor": "white",
             "minorgridcolor": "white",
             "startlinecolor": "#2a3f5f"
            },
            "type": "carpet"
           }
          ],
          "choropleth": [
           {
            "colorbar": {
             "outlinewidth": 0,
             "ticks": ""
            },
            "type": "choropleth"
           }
          ],
          "contour": [
           {
            "colorbar": {
             "outlinewidth": 0,
             "ticks": ""
            },
            "colorscale": [
             [
              0,
              "#0d0887"
             ],
             [
              0.1111111111111111,
              "#46039f"
             ],
             [
              0.2222222222222222,
              "#7201a8"
             ],
             [
              0.3333333333333333,
              "#9c179e"
             ],
             [
              0.4444444444444444,
              "#bd3786"
             ],
             [
              0.5555555555555556,
              "#d8576b"
             ],
             [
              0.6666666666666666,
              "#ed7953"
             ],
             [
              0.7777777777777778,
              "#fb9f3a"
             ],
             [
              0.8888888888888888,
              "#fdca26"
             ],
             [
              1,
              "#f0f921"
             ]
            ],
            "type": "contour"
           }
          ],
          "contourcarpet": [
           {
            "colorbar": {
             "outlinewidth": 0,
             "ticks": ""
            },
            "type": "contourcarpet"
           }
          ],
          "heatmap": [
           {
            "colorbar": {
             "outlinewidth": 0,
             "ticks": ""
            },
            "colorscale": [
             [
              0,
              "#0d0887"
             ],
             [
              0.1111111111111111,
              "#46039f"
             ],
             [
              0.2222222222222222,
              "#7201a8"
             ],
             [
              0.3333333333333333,
              "#9c179e"
             ],
             [
              0.4444444444444444,
              "#bd3786"
             ],
             [
              0.5555555555555556,
              "#d8576b"
             ],
             [
              0.6666666666666666,
              "#ed7953"
             ],
             [
              0.7777777777777778,
              "#fb9f3a"
             ],
             [
              0.8888888888888888,
              "#fdca26"
             ],
             [
              1,
              "#f0f921"
             ]
            ],
            "type": "heatmap"
           }
          ],
          "heatmapgl": [
           {
            "colorbar": {
             "outlinewidth": 0,
             "ticks": ""
            },
            "colorscale": [
             [
              0,
              "#0d0887"
             ],
             [
              0.1111111111111111,
              "#46039f"
             ],
             [
              0.2222222222222222,
              "#7201a8"
             ],
             [
              0.3333333333333333,
              "#9c179e"
             ],
             [
              0.4444444444444444,
              "#bd3786"
             ],
             [
              0.5555555555555556,
              "#d8576b"
             ],
             [
              0.6666666666666666,
              "#ed7953"
             ],
             [
              0.7777777777777778,
              "#fb9f3a"
             ],
             [
              0.8888888888888888,
              "#fdca26"
             ],
             [
              1,
              "#f0f921"
             ]
            ],
            "type": "heatmapgl"
           }
          ],
          "histogram": [
           {
            "marker": {
             "pattern": {
              "fillmode": "overlay",
              "size": 10,
              "solidity": 0.2
             }
            },
            "type": "histogram"
           }
          ],
          "histogram2d": [
           {
            "colorbar": {
             "outlinewidth": 0,
             "ticks": ""
            },
            "colorscale": [
             [
              0,
              "#0d0887"
             ],
             [
              0.1111111111111111,
              "#46039f"
             ],
             [
              0.2222222222222222,
              "#7201a8"
             ],
             [
              0.3333333333333333,
              "#9c179e"
             ],
             [
              0.4444444444444444,
              "#bd3786"
             ],
             [
              0.5555555555555556,
              "#d8576b"
             ],
             [
              0.6666666666666666,
              "#ed7953"
             ],
             [
              0.7777777777777778,
              "#fb9f3a"
             ],
             [
              0.8888888888888888,
              "#fdca26"
             ],
             [
              1,
              "#f0f921"
             ]
            ],
            "type": "histogram2d"
           }
          ],
          "histogram2dcontour": [
           {
            "colorbar": {
             "outlinewidth": 0,
             "ticks": ""
            },
            "colorscale": [
             [
              0,
              "#0d0887"
             ],
             [
              0.1111111111111111,
              "#46039f"
             ],
             [
              0.2222222222222222,
              "#7201a8"
             ],
             [
              0.3333333333333333,
              "#9c179e"
             ],
             [
              0.4444444444444444,
              "#bd3786"
             ],
             [
              0.5555555555555556,
              "#d8576b"
             ],
             [
              0.6666666666666666,
              "#ed7953"
             ],
             [
              0.7777777777777778,
              "#fb9f3a"
             ],
             [
              0.8888888888888888,
              "#fdca26"
             ],
             [
              1,
              "#f0f921"
             ]
            ],
            "type": "histogram2dcontour"
           }
          ],
          "mesh3d": [
           {
            "colorbar": {
             "outlinewidth": 0,
             "ticks": ""
            },
            "type": "mesh3d"
           }
          ],
          "parcoords": [
           {
            "line": {
             "colorbar": {
              "outlinewidth": 0,
              "ticks": ""
             }
            },
            "type": "parcoords"
           }
          ],
          "pie": [
           {
            "automargin": true,
            "type": "pie"
           }
          ],
          "scatter": [
           {
            "fillpattern": {
             "fillmode": "overlay",
             "size": 10,
             "solidity": 0.2
            },
            "type": "scatter"
           }
          ],
          "scatter3d": [
           {
            "line": {
             "colorbar": {
              "outlinewidth": 0,
              "ticks": ""
             }
            },
            "marker": {
             "colorbar": {
              "outlinewidth": 0,
              "ticks": ""
             }
            },
            "type": "scatter3d"
           }
          ],
          "scattercarpet": [
           {
            "marker": {
             "colorbar": {
              "outlinewidth": 0,
              "ticks": ""
             }
            },
            "type": "scattercarpet"
           }
          ],
          "scattergeo": [
           {
            "marker": {
             "colorbar": {
              "outlinewidth": 0,
              "ticks": ""
             }
            },
            "type": "scattergeo"
           }
          ],
          "scattergl": [
           {
            "marker": {
             "colorbar": {
              "outlinewidth": 0,
              "ticks": ""
             }
            },
            "type": "scattergl"
           }
          ],
          "scattermapbox": [
           {
            "marker": {
             "colorbar": {
              "outlinewidth": 0,
              "ticks": ""
             }
            },
            "type": "scattermapbox"
           }
          ],
          "scatterpolar": [
           {
            "marker": {
             "colorbar": {
              "outlinewidth": 0,
              "ticks": ""
             }
            },
            "type": "scatterpolar"
           }
          ],
          "scatterpolargl": [
           {
            "marker": {
             "colorbar": {
              "outlinewidth": 0,
              "ticks": ""
             }
            },
            "type": "scatterpolargl"
           }
          ],
          "scatterternary": [
           {
            "marker": {
             "colorbar": {
              "outlinewidth": 0,
              "ticks": ""
             }
            },
            "type": "scatterternary"
           }
          ],
          "surface": [
           {
            "colorbar": {
             "outlinewidth": 0,
             "ticks": ""
            },
            "colorscale": [
             [
              0,
              "#0d0887"
             ],
             [
              0.1111111111111111,
              "#46039f"
             ],
             [
              0.2222222222222222,
              "#7201a8"
             ],
             [
              0.3333333333333333,
              "#9c179e"
             ],
             [
              0.4444444444444444,
              "#bd3786"
             ],
             [
              0.5555555555555556,
              "#d8576b"
             ],
             [
              0.6666666666666666,
              "#ed7953"
             ],
             [
              0.7777777777777778,
              "#fb9f3a"
             ],
             [
              0.8888888888888888,
              "#fdca26"
             ],
             [
              1,
              "#f0f921"
             ]
            ],
            "type": "surface"
           }
          ],
          "table": [
           {
            "cells": {
             "fill": {
              "color": "#EBF0F8"
             },
             "line": {
              "color": "white"
             }
            },
            "header": {
             "fill": {
              "color": "#C8D4E3"
             },
             "line": {
              "color": "white"
             }
            },
            "type": "table"
           }
          ]
         },
         "layout": {
          "annotationdefaults": {
           "arrowcolor": "#2a3f5f",
           "arrowhead": 0,
           "arrowwidth": 1
          },
          "autotypenumbers": "strict",
          "coloraxis": {
           "colorbar": {
            "outlinewidth": 0,
            "ticks": ""
           }
          },
          "colorscale": {
           "diverging": [
            [
             0,
             "#8e0152"
            ],
            [
             0.1,
             "#c51b7d"
            ],
            [
             0.2,
             "#de77ae"
            ],
            [
             0.3,
             "#f1b6da"
            ],
            [
             0.4,
             "#fde0ef"
            ],
            [
             0.5,
             "#f7f7f7"
            ],
            [
             0.6,
             "#e6f5d0"
            ],
            [
             0.7,
             "#b8e186"
            ],
            [
             0.8,
             "#7fbc41"
            ],
            [
             0.9,
             "#4d9221"
            ],
            [
             1,
             "#276419"
            ]
           ],
           "sequential": [
            [
             0,
             "#0d0887"
            ],
            [
             0.1111111111111111,
             "#46039f"
            ],
            [
             0.2222222222222222,
             "#7201a8"
            ],
            [
             0.3333333333333333,
             "#9c179e"
            ],
            [
             0.4444444444444444,
             "#bd3786"
            ],
            [
             0.5555555555555556,
             "#d8576b"
            ],
            [
             0.6666666666666666,
             "#ed7953"
            ],
            [
             0.7777777777777778,
             "#fb9f3a"
            ],
            [
             0.8888888888888888,
             "#fdca26"
            ],
            [
             1,
             "#f0f921"
            ]
           ],
           "sequentialminus": [
            [
             0,
             "#0d0887"
            ],
            [
             0.1111111111111111,
             "#46039f"
            ],
            [
             0.2222222222222222,
             "#7201a8"
            ],
            [
             0.3333333333333333,
             "#9c179e"
            ],
            [
             0.4444444444444444,
             "#bd3786"
            ],
            [
             0.5555555555555556,
             "#d8576b"
            ],
            [
             0.6666666666666666,
             "#ed7953"
            ],
            [
             0.7777777777777778,
             "#fb9f3a"
            ],
            [
             0.8888888888888888,
             "#fdca26"
            ],
            [
             1,
             "#f0f921"
            ]
           ]
          },
          "colorway": [
           "#636efa",
           "#EF553B",
           "#00cc96",
           "#ab63fa",
           "#FFA15A",
           "#19d3f3",
           "#FF6692",
           "#B6E880",
           "#FF97FF",
           "#FECB52"
          ],
          "font": {
           "color": "#2a3f5f"
          },
          "geo": {
           "bgcolor": "white",
           "lakecolor": "white",
           "landcolor": "#E5ECF6",
           "showlakes": true,
           "showland": true,
           "subunitcolor": "white"
          },
          "hoverlabel": {
           "align": "left"
          },
          "hovermode": "closest",
          "mapbox": {
           "style": "light"
          },
          "paper_bgcolor": "white",
          "plot_bgcolor": "#E5ECF6",
          "polar": {
           "angularaxis": {
            "gridcolor": "white",
            "linecolor": "white",
            "ticks": ""
           },
           "bgcolor": "#E5ECF6",
           "radialaxis": {
            "gridcolor": "white",
            "linecolor": "white",
            "ticks": ""
           }
          },
          "scene": {
           "xaxis": {
            "backgroundcolor": "#E5ECF6",
            "gridcolor": "white",
            "gridwidth": 2,
            "linecolor": "white",
            "showbackground": true,
            "ticks": "",
            "zerolinecolor": "white"
           },
           "yaxis": {
            "backgroundcolor": "#E5ECF6",
            "gridcolor": "white",
            "gridwidth": 2,
            "linecolor": "white",
            "showbackground": true,
            "ticks": "",
            "zerolinecolor": "white"
           },
           "zaxis": {
            "backgroundcolor": "#E5ECF6",
            "gridcolor": "white",
            "gridwidth": 2,
            "linecolor": "white",
            "showbackground": true,
            "ticks": "",
            "zerolinecolor": "white"
           }
          },
          "shapedefaults": {
           "line": {
            "color": "#2a3f5f"
           }
          },
          "ternary": {
           "aaxis": {
            "gridcolor": "white",
            "linecolor": "white",
            "ticks": ""
           },
           "baxis": {
            "gridcolor": "white",
            "linecolor": "white",
            "ticks": ""
           },
           "bgcolor": "#E5ECF6",
           "caxis": {
            "gridcolor": "white",
            "linecolor": "white",
            "ticks": ""
           }
          },
          "title": {
           "x": 0.05
          },
          "xaxis": {
           "automargin": true,
           "gridcolor": "white",
           "linecolor": "white",
           "ticks": "",
           "title": {
            "standoff": 15
           },
           "zerolinecolor": "white",
           "zerolinewidth": 2
          },
          "yaxis": {
           "automargin": true,
           "gridcolor": "white",
           "linecolor": "white",
           "ticks": "",
           "title": {
            "standoff": 15
           },
           "zerolinecolor": "white",
           "zerolinewidth": 2
          }
         }
        },
        "title": {
         "text": "Correlation Matrix Heatmap"
        }
       }
      },
      "text/html": [
       "<div>                            <div id=\"4b92f33e-d694-4df7-878e-f4177361159b\" class=\"plotly-graph-div\" style=\"height:525px; width:100%;\"></div>            <script type=\"text/javascript\">                require([\"plotly\"], function(Plotly) {                    window.PLOTLYENV=window.PLOTLYENV || {};                                    if (document.getElementById(\"4b92f33e-d694-4df7-878e-f4177361159b\")) {                    Plotly.newPlot(                        \"4b92f33e-d694-4df7-878e-f4177361159b\",                        [{\"colorscale\":[[0.0,\"rgb(103,0,31)\"],[0.1,\"rgb(178,24,43)\"],[0.2,\"rgb(214,96,77)\"],[0.3,\"rgb(244,165,130)\"],[0.4,\"rgb(253,219,199)\"],[0.5,\"rgb(247,247,247)\"],[0.6,\"rgb(209,229,240)\"],[0.7,\"rgb(146,197,222)\"],[0.8,\"rgb(67,147,195)\"],[0.9,\"rgb(33,102,172)\"],[1.0,\"rgb(5,48,97)\"]],\"hoverinfo\":\"text\",\"text\":[[1.0,0.6321810289948142,0.6769767864155657,0.4714578353390319,0.3585033460582617,0.20799681030443806,0.2309819798054687,0.04289428093629426,0.08825841738858846],[0.6321810289948142,1.0,0.8235272246753316,0.5546840457911436,0.5277381144709143,0.25723243283373126,0.04288632140674651,0.010290696178575575,0.03518774860260205],[0.6769767864155657,0.8235272246753316,1.0,0.6018855422270687,0.497685997991416,0.27252005675566915,0.1598743758034194,0.028000838302582886,0.06622130800179939],[0.4714578353390319,0.5546840457911436,0.6018855422270687,1.0,0.6442151048274695,0.3769527703500324,0.46147008113175914,0.04217516188690078,0.1497674484518039],[0.3585033460582617,0.5277381144709143,0.497685997991416,0.6442151048274695,1.0,0.28470870180217817,-0.2635554957406064,0.004093538326593096,-0.01708843066310921],[0.20799681030443806,0.25723243283373126,0.27252005675566915,0.3769527703500324,0.28470870180217817,1.0,0.07310255695681063,-0.4106883449704623,-0.33612524969916796],[0.2309819798054687,0.04288632140674651,0.1598743758034194,0.46147008113175914,-0.2635554957406064,0.07310255695681063,1.0,0.08313524455750337,0.23953441886763874],[0.04289428093629426,0.010290696178575575,0.028000838302582886,0.04217516188690078,0.004093538326593096,-0.4106883449704623,0.08313524455750337,1.0,0.7653184987600138],[0.08825841738858846,0.03518774860260205,0.06622130800179939,0.1497674484518039,-0.01708843066310921,-0.33612524969916796,0.23953441886763874,0.7653184987600138,1.0]],\"x\":[\"international_reputation\",\"value_eur\",\"wage_eur\",\"overall\",\"potential\",\"skill_moves\",\"age\",\"height_cm\",\"weight_kg\"],\"y\":[\"international_reputation\",\"value_eur\",\"wage_eur\",\"overall\",\"potential\",\"skill_moves\",\"age\",\"height_cm\",\"weight_kg\"],\"z\":[[1.0,0.6321810289948142,0.6769767864155657,0.4714578353390319,0.3585033460582617,0.20799681030443806,0.2309819798054687,0.04289428093629426,0.08825841738858846],[0.6321810289948142,1.0,0.8235272246753316,0.5546840457911436,0.5277381144709143,0.25723243283373126,0.04288632140674651,0.010290696178575575,0.03518774860260205],[0.6769767864155657,0.8235272246753316,1.0,0.6018855422270687,0.497685997991416,0.27252005675566915,0.1598743758034194,0.028000838302582886,0.06622130800179939],[0.4714578353390319,0.5546840457911436,0.6018855422270687,1.0,0.6442151048274695,0.3769527703500324,0.46147008113175914,0.04217516188690078,0.1497674484518039],[0.3585033460582617,0.5277381144709143,0.497685997991416,0.6442151048274695,1.0,0.28470870180217817,-0.2635554957406064,0.004093538326593096,-0.01708843066310921],[0.20799681030443806,0.25723243283373126,0.27252005675566915,0.3769527703500324,0.28470870180217817,1.0,0.07310255695681063,-0.4106883449704623,-0.33612524969916796],[0.2309819798054687,0.04288632140674651,0.1598743758034194,0.46147008113175914,-0.2635554957406064,0.07310255695681063,1.0,0.08313524455750337,0.23953441886763874],[0.04289428093629426,0.010290696178575575,0.028000838302582886,0.04217516188690078,0.004093538326593096,-0.4106883449704623,0.08313524455750337,1.0,0.7653184987600138],[0.08825841738858846,0.03518774860260205,0.06622130800179939,0.1497674484518039,-0.01708843066310921,-0.33612524969916796,0.23953441886763874,0.7653184987600138,1.0]],\"zmax\":1,\"zmin\":-1,\"type\":\"heatmap\"}],                        {\"title\":{\"text\":\"Correlation Matrix Heatmap\"},\"template\":{\"data\":{\"histogram2dcontour\":[{\"type\":\"histogram2dcontour\",\"colorbar\":{\"outlinewidth\":0,\"ticks\":\"\"},\"colorscale\":[[0.0,\"#0d0887\"],[0.1111111111111111,\"#46039f\"],[0.2222222222222222,\"#7201a8\"],[0.3333333333333333,\"#9c179e\"],[0.4444444444444444,\"#bd3786\"],[0.5555555555555556,\"#d8576b\"],[0.6666666666666666,\"#ed7953\"],[0.7777777777777778,\"#fb9f3a\"],[0.8888888888888888,\"#fdca26\"],[1.0,\"#f0f921\"]]}],\"choropleth\":[{\"type\":\"choropleth\",\"colorbar\":{\"outlinewidth\":0,\"ticks\":\"\"}}],\"histogram2d\":[{\"type\":\"histogram2d\",\"colorbar\":{\"outlinewidth\":0,\"ticks\":\"\"},\"colorscale\":[[0.0,\"#0d0887\"],[0.1111111111111111,\"#46039f\"],[0.2222222222222222,\"#7201a8\"],[0.3333333333333333,\"#9c179e\"],[0.4444444444444444,\"#bd3786\"],[0.5555555555555556,\"#d8576b\"],[0.6666666666666666,\"#ed7953\"],[0.7777777777777778,\"#fb9f3a\"],[0.8888888888888888,\"#fdca26\"],[1.0,\"#f0f921\"]]}],\"heatmap\":[{\"type\":\"heatmap\",\"colorbar\":{\"outlinewidth\":0,\"ticks\":\"\"},\"colorscale\":[[0.0,\"#0d0887\"],[0.1111111111111111,\"#46039f\"],[0.2222222222222222,\"#7201a8\"],[0.3333333333333333,\"#9c179e\"],[0.4444444444444444,\"#bd3786\"],[0.5555555555555556,\"#d8576b\"],[0.6666666666666666,\"#ed7953\"],[0.7777777777777778,\"#fb9f3a\"],[0.8888888888888888,\"#fdca26\"],[1.0,\"#f0f921\"]]}],\"heatmapgl\":[{\"type\":\"heatmapgl\",\"colorbar\":{\"outlinewidth\":0,\"ticks\":\"\"},\"colorscale\":[[0.0,\"#0d0887\"],[0.1111111111111111,\"#46039f\"],[0.2222222222222222,\"#7201a8\"],[0.3333333333333333,\"#9c179e\"],[0.4444444444444444,\"#bd3786\"],[0.5555555555555556,\"#d8576b\"],[0.6666666666666666,\"#ed7953\"],[0.7777777777777778,\"#fb9f3a\"],[0.8888888888888888,\"#fdca26\"],[1.0,\"#f0f921\"]]}],\"contourcarpet\":[{\"type\":\"contourcarpet\",\"colorbar\":{\"outlinewidth\":0,\"ticks\":\"\"}}],\"contour\":[{\"type\":\"contour\",\"colorbar\":{\"outlinewidth\":0,\"ticks\":\"\"},\"colorscale\":[[0.0,\"#0d0887\"],[0.1111111111111111,\"#46039f\"],[0.2222222222222222,\"#7201a8\"],[0.3333333333333333,\"#9c179e\"],[0.4444444444444444,\"#bd3786\"],[0.5555555555555556,\"#d8576b\"],[0.6666666666666666,\"#ed7953\"],[0.7777777777777778,\"#fb9f3a\"],[0.8888888888888888,\"#fdca26\"],[1.0,\"#f0f921\"]]}],\"surface\":[{\"type\":\"surface\",\"colorbar\":{\"outlinewidth\":0,\"ticks\":\"\"},\"colorscale\":[[0.0,\"#0d0887\"],[0.1111111111111111,\"#46039f\"],[0.2222222222222222,\"#7201a8\"],[0.3333333333333333,\"#9c179e\"],[0.4444444444444444,\"#bd3786\"],[0.5555555555555556,\"#d8576b\"],[0.6666666666666666,\"#ed7953\"],[0.7777777777777778,\"#fb9f3a\"],[0.8888888888888888,\"#fdca26\"],[1.0,\"#f0f921\"]]}],\"mesh3d\":[{\"type\":\"mesh3d\",\"colorbar\":{\"outlinewidth\":0,\"ticks\":\"\"}}],\"scatter\":[{\"fillpattern\":{\"fillmode\":\"overlay\",\"size\":10,\"solidity\":0.2},\"type\":\"scatter\"}],\"parcoords\":[{\"type\":\"parcoords\",\"line\":{\"colorbar\":{\"outlinewidth\":0,\"ticks\":\"\"}}}],\"scatterpolargl\":[{\"type\":\"scatterpolargl\",\"marker\":{\"colorbar\":{\"outlinewidth\":0,\"ticks\":\"\"}}}],\"bar\":[{\"error_x\":{\"color\":\"#2a3f5f\"},\"error_y\":{\"color\":\"#2a3f5f\"},\"marker\":{\"line\":{\"color\":\"#E5ECF6\",\"width\":0.5},\"pattern\":{\"fillmode\":\"overlay\",\"size\":10,\"solidity\":0.2}},\"type\":\"bar\"}],\"scattergeo\":[{\"type\":\"scattergeo\",\"marker\":{\"colorbar\":{\"outlinewidth\":0,\"ticks\":\"\"}}}],\"scatterpolar\":[{\"type\":\"scatterpolar\",\"marker\":{\"colorbar\":{\"outlinewidth\":0,\"ticks\":\"\"}}}],\"histogram\":[{\"marker\":{\"pattern\":{\"fillmode\":\"overlay\",\"size\":10,\"solidity\":0.2}},\"type\":\"histogram\"}],\"scattergl\":[{\"type\":\"scattergl\",\"marker\":{\"colorbar\":{\"outlinewidth\":0,\"ticks\":\"\"}}}],\"scatter3d\":[{\"type\":\"scatter3d\",\"line\":{\"colorbar\":{\"outlinewidth\":0,\"ticks\":\"\"}},\"marker\":{\"colorbar\":{\"outlinewidth\":0,\"ticks\":\"\"}}}],\"scattermapbox\":[{\"type\":\"scattermapbox\",\"marker\":{\"colorbar\":{\"outlinewidth\":0,\"ticks\":\"\"}}}],\"scatterternary\":[{\"type\":\"scatterternary\",\"marker\":{\"colorbar\":{\"outlinewidth\":0,\"ticks\":\"\"}}}],\"scattercarpet\":[{\"type\":\"scattercarpet\",\"marker\":{\"colorbar\":{\"outlinewidth\":0,\"ticks\":\"\"}}}],\"carpet\":[{\"aaxis\":{\"endlinecolor\":\"#2a3f5f\",\"gridcolor\":\"white\",\"linecolor\":\"white\",\"minorgridcolor\":\"white\",\"startlinecolor\":\"#2a3f5f\"},\"baxis\":{\"endlinecolor\":\"#2a3f5f\",\"gridcolor\":\"white\",\"linecolor\":\"white\",\"minorgridcolor\":\"white\",\"startlinecolor\":\"#2a3f5f\"},\"type\":\"carpet\"}],\"table\":[{\"cells\":{\"fill\":{\"color\":\"#EBF0F8\"},\"line\":{\"color\":\"white\"}},\"header\":{\"fill\":{\"color\":\"#C8D4E3\"},\"line\":{\"color\":\"white\"}},\"type\":\"table\"}],\"barpolar\":[{\"marker\":{\"line\":{\"color\":\"#E5ECF6\",\"width\":0.5},\"pattern\":{\"fillmode\":\"overlay\",\"size\":10,\"solidity\":0.2}},\"type\":\"barpolar\"}],\"pie\":[{\"automargin\":true,\"type\":\"pie\"}]},\"layout\":{\"autotypenumbers\":\"strict\",\"colorway\":[\"#636efa\",\"#EF553B\",\"#00cc96\",\"#ab63fa\",\"#FFA15A\",\"#19d3f3\",\"#FF6692\",\"#B6E880\",\"#FF97FF\",\"#FECB52\"],\"font\":{\"color\":\"#2a3f5f\"},\"hovermode\":\"closest\",\"hoverlabel\":{\"align\":\"left\"},\"paper_bgcolor\":\"white\",\"plot_bgcolor\":\"#E5ECF6\",\"polar\":{\"bgcolor\":\"#E5ECF6\",\"angularaxis\":{\"gridcolor\":\"white\",\"linecolor\":\"white\",\"ticks\":\"\"},\"radialaxis\":{\"gridcolor\":\"white\",\"linecolor\":\"white\",\"ticks\":\"\"}},\"ternary\":{\"bgcolor\":\"#E5ECF6\",\"aaxis\":{\"gridcolor\":\"white\",\"linecolor\":\"white\",\"ticks\":\"\"},\"baxis\":{\"gridcolor\":\"white\",\"linecolor\":\"white\",\"ticks\":\"\"},\"caxis\":{\"gridcolor\":\"white\",\"linecolor\":\"white\",\"ticks\":\"\"}},\"coloraxis\":{\"colorbar\":{\"outlinewidth\":0,\"ticks\":\"\"}},\"colorscale\":{\"sequential\":[[0.0,\"#0d0887\"],[0.1111111111111111,\"#46039f\"],[0.2222222222222222,\"#7201a8\"],[0.3333333333333333,\"#9c179e\"],[0.4444444444444444,\"#bd3786\"],[0.5555555555555556,\"#d8576b\"],[0.6666666666666666,\"#ed7953\"],[0.7777777777777778,\"#fb9f3a\"],[0.8888888888888888,\"#fdca26\"],[1.0,\"#f0f921\"]],\"sequentialminus\":[[0.0,\"#0d0887\"],[0.1111111111111111,\"#46039f\"],[0.2222222222222222,\"#7201a8\"],[0.3333333333333333,\"#9c179e\"],[0.4444444444444444,\"#bd3786\"],[0.5555555555555556,\"#d8576b\"],[0.6666666666666666,\"#ed7953\"],[0.7777777777777778,\"#fb9f3a\"],[0.8888888888888888,\"#fdca26\"],[1.0,\"#f0f921\"]],\"diverging\":[[0,\"#8e0152\"],[0.1,\"#c51b7d\"],[0.2,\"#de77ae\"],[0.3,\"#f1b6da\"],[0.4,\"#fde0ef\"],[0.5,\"#f7f7f7\"],[0.6,\"#e6f5d0\"],[0.7,\"#b8e186\"],[0.8,\"#7fbc41\"],[0.9,\"#4d9221\"],[1,\"#276419\"]]},\"xaxis\":{\"gridcolor\":\"white\",\"linecolor\":\"white\",\"ticks\":\"\",\"title\":{\"standoff\":15},\"zerolinecolor\":\"white\",\"automargin\":true,\"zerolinewidth\":2},\"yaxis\":{\"gridcolor\":\"white\",\"linecolor\":\"white\",\"ticks\":\"\",\"title\":{\"standoff\":15},\"zerolinecolor\":\"white\",\"automargin\":true,\"zerolinewidth\":2},\"scene\":{\"xaxis\":{\"backgroundcolor\":\"#E5ECF6\",\"gridcolor\":\"white\",\"linecolor\":\"white\",\"showbackground\":true,\"ticks\":\"\",\"zerolinecolor\":\"white\",\"gridwidth\":2},\"yaxis\":{\"backgroundcolor\":\"#E5ECF6\",\"gridcolor\":\"white\",\"linecolor\":\"white\",\"showbackground\":true,\"ticks\":\"\",\"zerolinecolor\":\"white\",\"gridwidth\":2},\"zaxis\":{\"backgroundcolor\":\"#E5ECF6\",\"gridcolor\":\"white\",\"linecolor\":\"white\",\"showbackground\":true,\"ticks\":\"\",\"zerolinecolor\":\"white\",\"gridwidth\":2}},\"shapedefaults\":{\"line\":{\"color\":\"#2a3f5f\"}},\"annotationdefaults\":{\"arrowcolor\":\"#2a3f5f\",\"arrowhead\":0,\"arrowwidth\":1},\"geo\":{\"bgcolor\":\"white\",\"landcolor\":\"#E5ECF6\",\"subunitcolor\":\"white\",\"showland\":true,\"showlakes\":true,\"lakecolor\":\"white\"},\"title\":{\"x\":0.05},\"mapbox\":{\"style\":\"light\"}}}},                        {\"responsive\": true}                    ).then(function(){\n",
       "                            \n",
       "var gd = document.getElementById('4b92f33e-d694-4df7-878e-f4177361159b');\n",
       "var x = new MutationObserver(function (mutations, observer) {{\n",
       "        var display = window.getComputedStyle(gd).display;\n",
       "        if (!display || display === 'none') {{\n",
       "            console.log([gd, 'removed!']);\n",
       "            Plotly.purge(gd);\n",
       "            observer.disconnect();\n",
       "        }}\n",
       "}});\n",
       "\n",
       "// Listen for the removal of the full notebook cells\n",
       "var notebookContainer = gd.closest('#notebook-container');\n",
       "if (notebookContainer) {{\n",
       "    x.observe(notebookContainer, {childList: true});\n",
       "}}\n",
       "\n",
       "// Listen for the clearing of the current output cell\n",
       "var outputEl = gd.closest('.output');\n",
       "if (outputEl) {{\n",
       "    x.observe(outputEl, {childList: true});\n",
       "}}\n",
       "\n",
       "                        })                };                });            </script>        </div>"
      ]
     },
     "metadata": {},
     "output_type": "display_data"
    }
   ],
   "source": [
    "import pandas as pd\n",
    "import numpy as np\n",
    "import seaborn as sns\n",
    "import matplotlib.pyplot as plt\n",
    "import plotly.offline as pyo\n",
    "import cufflinks as cf\n",
    "cf.go_offline(connected=True)\n",
    "from collections import Counter\n",
    "import plotly.graph_objects as go\n",
    "\n",
    "# from google.colab import drive\n",
    "\n",
    "# FIFA 22 선수분석\n",
    "# 값어치(value_eur)가 제일 높은 선수 20명 \n",
    "PATH = \"archive/\"\n",
    "FIFA_22 = pd.read_csv(PATH + 'players_22.csv', encoding='utf-8')\n",
    "FIFA_22_value = FIFA_22.sort_values(by='value_eur', ascending=False).copy()\n",
    "FIFA_22_value.head(20)\n",
    "\n",
    "FIFA_22.shape\n",
    "# 필요한 데이터만 추출\n",
    "data = FIFA_22[['short_name','age','height_cm','weight_kg','nationality_name','club_name','overall','potential',\n",
    "        'value_eur','wage_eur','player_positions','preferred_foot','international_reputation',\n",
    "        'skill_moves', 'work_rate']]\n",
    "data.isnull().sum() # 결측치 확인\n",
    "data = data.dropna()   # 결측치 제거\n",
    "\n",
    "# 오버롤 : 포지션 능력치의 평균치 / min, max\n",
    "min(data.overall), max(data.overall)\n",
    "\n",
    "# 국가별 선수 숫자\n",
    "data['nationality_name'].value_counts()\n",
    "\n",
    "# 모든 선수들의 주발\n",
    "players_foot = data.groupby(['preferred_foot']).count()[['short_name']]\n",
    "players_foot = players_foot.rename(columns={'short_name':'count'})\n",
    "\n",
    "# 데이터 분석 및 시각화\n",
    "players_foot = players_foot.reset_index()\n",
    "players_foot\n",
    "layout_preferred_foot = {\n",
    "    'title':{\n",
    "        'text':'<b>Preferred_foot</b>',\n",
    "        'font':{\n",
    "            'size':15,\n",
    "            'color':'#37474F'\n",
    "        },\n",
    "        'x':0.5,\n",
    "        'y':0.9\n",
    "    },\n",
    "    'showlegend' : True,\n",
    "    'xaxis':{},\n",
    "    'yaxis':{}\n",
    "}\n",
    "\n",
    "# players_foot.iplot(kind='pie', theme='white', labels='preferred_foot', values='count', layout=layout_preferred_foot)\n",
    "\n",
    "\n",
    "# 선수 많은 상위 10개 국가\n",
    "top10 = dict(Counter(data['nationality_name'].values).most_common(10))\n",
    "top10_index = top10.keys()\n",
    "top10_columns = top10.values()\n",
    "top10_df = pd.DataFrame({'count':top10_columns}, index=top10_index)\n",
    "layout_top10 = {\n",
    "    'title':{\n",
    "        'text':'<b>Popular Nationalities</b>',\n",
    "        'x':0.5,\n",
    "        'font':{\n",
    "            'size':15,\n",
    "            'color':'black'\n",
    "        }\n",
    "    },\n",
    "    'xaxis':{\n",
    "        'title':\"Country\"\n",
    "    },\n",
    "    'yaxis':{\n",
    "        'title':'Count',\n",
    "        'dtick':250\n",
    "    }\n",
    "\n",
    "}\n",
    "\n",
    "# top10_df.iplot(kind='bar', layout=layout_top10)\n",
    "\n",
    "# 오버롤 상위 100명이 속한 팀은??\n",
    "teams_df = data.sort_values(by='overall', ascending=False).head(100)\n",
    "teams_df = teams_df['club_name'].value_counts().head(10)\n",
    "fig = go.Figure()\n",
    "fig.add_trace(go.Bar(\n",
    "    x = teams_df.index,\n",
    "    y = teams_df.values\n",
    "))\n",
    "fig.update_layout(\n",
    "    xaxis=dict(\n",
    "        tickangle=-90\n",
    "    ),\n",
    "    title={\n",
    "        'text':'Top 100 Players by club',\n",
    "        'x':0.5,\n",
    "        'font':{\n",
    "            'size':20\n",
    "        }\n",
    "    }\n",
    ")\n",
    "# fig.show()\n",
    "\n",
    "# 상관관계 히트맵\n",
    "corr_matrix = data[['international_reputation', 'value_eur', 'wage_eur', 'overall', 'potential', 'skill_moves', 'age', 'height_cm','weight_kg']].corr()\n",
    "# corr_matrix.iplot(kind='heatmap', colorscale='RdBu', zmin=-1, zmax=1, title='Correlation Matrix Heatmap')\n",
    "\n",
    "heatmap = go.Heatmap(\n",
    "    z=corr_matrix.values,  # 상관계수 값\n",
    "    x=corr_matrix.columns,  # 열 이름\n",
    "    y=corr_matrix.columns,  # 행 이름\n",
    "    colorscale='RdBu',\n",
    "    zmin=-1, \n",
    "    zmax=1,\n",
    "    text=corr_matrix.values,  # 텍스트로 표시할 상관계수 값\n",
    "    hoverinfo='text'\n",
    ")\n",
    "\n",
    "# 상관계수 값을 표시하기 위한 annotations 생성\n",
    "annotations = []\n",
    "for i in range(len(corr_matrix)):\n",
    "    for j in range(len(corr_matrix.columns)):\n",
    "        annotations.append(\n",
    "            go.layout.Annotation(\n",
    "                text=str(round(corr_matrix.values[i][j], 2)),  # 상관계수를 텍스트로 표시\n",
    "                x=corr_matrix.columns[j],\n",
    "                y=corr_matrix.columns[i],\n",
    "                xref='x1', yref='y1',\n",
    "                showarrow=False,\n",
    "                font=dict(color='black')\n",
    "            )\n",
    "        )\n",
    "\n",
    "# 레이아웃 설정\n",
    "layout = go.Layout(\n",
    "    title='Correlation Matrix Heatmap',\n",
    "    annotations=annotations\n",
    ")\n",
    "\n",
    "# Figure 생성\n",
    "fig = go.Figure(data=[heatmap], layout=layout)\n",
    "\n",
    "# 그래프 출력\n",
    "fig.show()"
   ]
  },
  {
   "cell_type": "code",
   "execution_count": null,
   "metadata": {},
   "outputs": [],
   "source": []
  }
 ],
 "metadata": {
  "kernelspec": {
   "display_name": "base",
   "language": "python",
   "name": "python3"
  },
  "language_info": {
   "codemirror_mode": {
    "name": "ipython",
    "version": 3
   },
   "file_extension": ".py",
   "mimetype": "text/x-python",
   "name": "python",
   "nbconvert_exporter": "python",
   "pygments_lexer": "ipython3",
   "version": "3.12.4"
  }
 },
 "nbformat": 4,
 "nbformat_minor": 2
}
