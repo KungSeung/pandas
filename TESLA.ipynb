{
 "cells": [
  {
   "cell_type": "code",
   "execution_count": 88,
   "metadata": {},
   "outputs": [
    {
     "name": "stdout",
     "output_type": "stream",
     "text": [
      "금일 주가 변동폭은 -7.137$입니다. 거래량은 914082000입니다.\n"
     ]
    }
   ],
   "source": [
    "import pandas as pd\n",
    "import plotly.graph_objects as go\n",
    "# import cufflinks as cf\n",
    "# cf.go_offline(connected=True)\n",
    "from datetime import datetime\n",
    "\n",
    "# 테슬라 일일 주식 가격 데이터\n",
    "# Volume : 거래량을 의미\n",
    "data = pd.read_csv('TESLA.csv')\n",
    "\n",
    "# 1. 몇일간의 기록인가?\n",
    "data['Date'] = pd.to_datetime(data['Date'])\n",
    "first_date = data['Date'].min()     # 첫날\n",
    "last_date = data['Date'].max()      # 끝날\n",
    "last_date-first_date        # 걸린기간\n",
    "\n",
    "# 2. 년도별 Close(종가 가격) 평균치를 측정한 후 시각화\n",
    "# 주식의 전반적인 흐름이 어떤가? 를 알아볼 수 있다\n",
    "data['Year'] = data['Date'].dt.year\n",
    "year_avg_price = data.groupby('Year')['Close'].mean()\n",
    "year_avg_price_layout = {\n",
    "    'title':{\n",
    "        'text':'<b>year_avg_price</b>',\n",
    "        'font':{\n",
    "            'size':15,\n",
    "            'color':'#37474F'\n",
    "        },\n",
    "        'x':0.5 \n",
    "    },\n",
    "    'xaxis': {\n",
    "        'title': {\n",
    "            'text': '<b>Year</b>'\n",
    "        },\n",
    "        'dtick': 1,\n",
    "        'tickangle':0,\n",
    "        'range':[2017, 2024] \n",
    "    },\n",
    "    'yaxis': {\n",
    "        'title': {\n",
    "            'text': '<b>Price</b>'\n",
    "        },\n",
    "        'dtick': 50  \n",
    "    }\n",
    "}\n",
    "# year_avg_price.iplot(kind='lines', layout=year_avg_price_layout)\n",
    "\n",
    "# 3. 변동폭이 컸던 날짜와 변동폭(종가 기준)\n",
    "# 특정기간(주별, 월별)의 변동폭(고가-저가)를 계산해서 주식의 변동성을 분석 가능\n",
    "# data.groupby('Date')['Close'].count()\n",
    "date_dict = dict()\n",
    "date_list = data['Date'].tolist()\n",
    "date_Close = data['Close'].tolist()\n",
    "for i in range(len(date_list)-1):\n",
    "    price_diff = date_Close[i+1] - date_Close[i]\n",
    "    date_dict[date_list[i]] = round(price_diff, 3)\n",
    "\n",
    "max_price_diff = max(date_dict.values())\n",
    "max_date = [date for date, diff in date_dict.items() if diff == max_price_diff]\n",
    "max_date, max_price_diff\n",
    "\n",
    "\n",
    "# 4. 거래량이 가장 많았던 날과 해당 날짜의 주가 변동(전날에 비해 얼마나 오르고 내렸는가 / 종가 기준) 분석 가능\n",
    "# idxmax는 해당 열의 최대값을 가진 행의 인덱스를 반환\n",
    "date_vol = data[['Date', 'Close', 'Volume']]\n",
    "max_volume_index = date_vol['Volume'].idxmax()\n",
    "max_volume_row = date_vol.loc[max_volume_index]\n",
    "if max_volume_index > 0:\n",
    "    previous_day = date_vol.loc[max_volume_index - 1]\n",
    "max_volume_price_diff = round(previous_day['Close'] - max_volume_row['Close'], 3)\n",
    "print('금일 주가 변동폭은 '+str(max_volume_price_diff)+'$입니다. '+'거래량은 '+str(max_volume_row['Volume'])+'입니다.')\n",
    "\n",
    "# 5. 종가 기준으로 연속 상승일 또는 연속 하락일 분석 가능\n",
    "\n",
    "\n",
    "\n",
    "# 6. 이동 평균 분석(30, 50, 100)하여 주식의 장기적인 흐름 분석\n",
    "\n",
    "# 데이터 확인\n",
    "# data\n",
    "# data.isnull().sum()     # 결측치 없음\n",
    "# data.describe()\n"
   ]
  },
  {
   "cell_type": "code",
   "execution_count": null,
   "metadata": {},
   "outputs": [],
   "source": []
  }
 ],
 "metadata": {
  "kernelspec": {
   "display_name": "base",
   "language": "python",
   "name": "python3"
  },
  "language_info": {
   "codemirror_mode": {
    "name": "ipython",
    "version": 3
   },
   "file_extension": ".py",
   "mimetype": "text/x-python",
   "name": "python",
   "nbconvert_exporter": "python",
   "pygments_lexer": "ipython3",
   "version": "3.12.4"
  }
 },
 "nbformat": 4,
 "nbformat_minor": 2
}
